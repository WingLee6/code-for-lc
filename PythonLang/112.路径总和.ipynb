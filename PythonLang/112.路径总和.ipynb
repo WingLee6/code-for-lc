{
 "cells": [
  {
   "cell_type": "markdown",
   "metadata": {},
   "source": [
    "# 112. 路径总和\n",
    "给你二叉树的根节点 root 和一个表示目标和的整数 targetSum 。判断该树中是否存在 根节点到叶子节点 的路径，这条路径上所有节点值相加等于目标和 targetSum 。如果存在，返回 true ；否则，返回 false 。  \n",
    "叶子节点 是指没有子节点的节点。\n",
    "\n",
    "### 示例 1：\n",
    "输入：root = [5,4,8,11,null,13,4,7,2,null,null,null,1], targetSum = 22  \n",
    "输出：true  \n",
    "解释：等于目标和的根节点到叶节点路径如上图所示。  \n",
    "### 示例 2：  \n",
    "输入：root = [1,2,3], targetSum = 5  \n",
    "输出：false  \n",
    "解释：树中存在两条根节点到叶子节点的路径：  \n",
    "(1 --> 2): 和为 3  \n",
    "(1 --> 3): 和为 4  \n",
    "不存在 sum = 5 的根节点到叶子节点的路径。  \n",
    "### 示例 3：\n",
    "输入：root = [], targetSum = 0  \n",
    "输出：false  \n",
    "解释：由于树是空的，所以不存在根节点到叶子节点的路径。  \n",
    "### 示例 4：\n",
    "param = [1]  \n",
    "targetSum = 1  \n",
    "输出：true \n",
    "### 示例 5：\n",
    "param = [1,2]  \n",
    "targetSum = 1  \n",
    "输出：false \n"
   ]
  },
  {
   "cell_type": "code",
   "execution_count": 77,
   "metadata": {},
   "outputs": [],
   "source": [
    "from typing import Optional"
   ]
  },
  {
   "cell_type": "code",
   "execution_count": 78,
   "metadata": {},
   "outputs": [],
   "source": [
    "class TreeNode:\n",
    "    def __init__(self, val=0, left=None, right=None):\n",
    "        self.val = val\n",
    "        self.left = left\n",
    "        self.right = right"
   ]
  },
  {
   "cell_type": "code",
   "execution_count": 79,
   "metadata": {},
   "outputs": [],
   "source": [
    "class Solution:\n",
    "    def hasPathSum(self, root: Optional[TreeNode], targetSum: int) -> bool:\n",
    "        # 基于广度优先遍历\n",
    "        if not root:\n",
    "            return False\n",
    "        \n",
    "        queueu_node = []\n",
    "        tmp_sum = [root.val]\n",
    "        \n",
    "        p = root\n",
    "        queueu_node.append(p)\n",
    "        end_node = p\n",
    "        while queueu_node:\n",
    "            p = queueu_node[0]\n",
    "            queueu_node.pop(0)\n",
    "            if p.left:\n",
    "                queueu_node.append(p.left)\n",
    "                tmp_sum.append(tmp_sum[0]+p.left.val)\n",
    "                if targetSum==tmp_sum[-1] and not p.left.left and not p.left.right:\n",
    "                    return True\n",
    "            if p.right:\n",
    "                queueu_node.append(p.right)\n",
    "                tmp_sum.append(tmp_sum[0]+p.right.val)\n",
    "                if targetSum==tmp_sum[-1] and not p.right.left and not p.right.right:\n",
    "                    return True\n",
    "            if p == end_node and queueu_node:\n",
    "                end_node = queueu_node[len(queueu_node)-1]\n",
    "            \n",
    "            if targetSum==tmp_sum[-1] and not p.left and not p.right:\n",
    "                return True\n",
    "\n",
    "            tmp_sum.pop(0)\n",
    "\n",
    "        return False\n"
   ]
  },
  {
   "cell_type": "markdown",
   "metadata": {},
   "source": [
    "### 测试部分"
   ]
  },
  {
   "cell_type": "code",
   "execution_count": 80,
   "metadata": {},
   "outputs": [
    {
     "data": {
      "text/plain": [
       "False"
      ]
     },
     "execution_count": 80,
     "metadata": {},
     "output_type": "execute_result"
    }
   ],
   "source": [
    "from Tools.operations_tree import operations_bi_tree\n",
    "\n",
    "param = [5, 4, 8, 11, None, 13, 4, 7, 2, None, None, None, 1]\n",
    "targetSum = 22\n",
    "param = [1,2,3]\n",
    "targetSum = 5\n",
    "param = []\n",
    "targetSum = 0\n",
    "param = [1]\n",
    "targetSum = 1\n",
    "param = [1,2]\n",
    "targetSum = 1\n",
    "\n",
    "\n",
    "tree = operations_bi_tree()\n",
    "tree.leetcode_level_build_tree(tree_val=param)\n",
    "\n",
    "s = Solution()\n",
    "s.hasPathSum(root=tree.tree_root, targetSum=targetSum)"
   ]
  },
  {
   "cell_type": "code",
   "execution_count": 82,
   "metadata": {},
   "outputs": [
    {
     "ename": "NameError",
     "evalue": "name 'lru_cache' is not defined",
     "output_type": "error",
     "traceback": [
      "\u001b[0;31m---------------------------------------------------------------------------\u001b[0m",
      "\u001b[0;31mNameError\u001b[0m                                 Traceback (most recent call last)",
      "\u001b[1;32m/Users/lukelee/GitWorkspace/CodeForLeetCode/PythonLang/q112_路径总和.ipynb Cell 7\u001b[0m in \u001b[0;36m<cell line: 1>\u001b[0;34m()\u001b[0m\n\u001b[0;32m----> <a href='vscode-notebook-cell:/Users/lukelee/GitWorkspace/CodeForLeetCode/PythonLang/q112_%E8%B7%AF%E5%BE%84%E6%80%BB%E5%92%8C.ipynb#ch0000006?line=0'>1</a>\u001b[0m \u001b[39mclass\u001b[39;00m \u001b[39mSolution\u001b[39;00m:\n\u001b[1;32m      <a href='vscode-notebook-cell:/Users/lukelee/GitWorkspace/CodeForLeetCode/PythonLang/q112_%E8%B7%AF%E5%BE%84%E6%80%BB%E5%92%8C.ipynb#ch0000006?line=1'>2</a>\u001b[0m     \u001b[39m@lru_cache\u001b[39m(\u001b[39mNone\u001b[39;00m)        \u001b[39m# 带有装饰器@lru_cache可以利用缓存减少迭代调用时间。不加次方法会超时\u001b[39;00m\n\u001b[1;32m      <a href='vscode-notebook-cell:/Users/lukelee/GitWorkspace/CodeForLeetCode/PythonLang/q112_%E8%B7%AF%E5%BE%84%E6%80%BB%E5%92%8C.ipynb#ch0000006?line=2'>3</a>\u001b[0m     \u001b[39mdef\u001b[39;00m \u001b[39mclimbStairs\u001b[39m(\u001b[39mself\u001b[39m, n: \u001b[39mint\u001b[39m) \u001b[39m-\u001b[39m\u001b[39m>\u001b[39m \u001b[39mint\u001b[39m:\n\u001b[1;32m      <a href='vscode-notebook-cell:/Users/lukelee/GitWorkspace/CodeForLeetCode/PythonLang/q112_%E8%B7%AF%E5%BE%84%E6%80%BB%E5%92%8C.ipynb#ch0000006?line=4'>5</a>\u001b[0m         \u001b[39mif\u001b[39;00m n \u001b[39m==\u001b[39m \u001b[39m0\u001b[39m:\n",
      "\u001b[1;32m/Users/lukelee/GitWorkspace/CodeForLeetCode/PythonLang/q112_路径总和.ipynb Cell 7\u001b[0m in \u001b[0;36mSolution\u001b[0;34m()\u001b[0m\n\u001b[1;32m      <a href='vscode-notebook-cell:/Users/lukelee/GitWorkspace/CodeForLeetCode/PythonLang/q112_%E8%B7%AF%E5%BE%84%E6%80%BB%E5%92%8C.ipynb#ch0000006?line=0'>1</a>\u001b[0m \u001b[39mclass\u001b[39;00m \u001b[39mSolution\u001b[39;00m:\n\u001b[0;32m----> <a href='vscode-notebook-cell:/Users/lukelee/GitWorkspace/CodeForLeetCode/PythonLang/q112_%E8%B7%AF%E5%BE%84%E6%80%BB%E5%92%8C.ipynb#ch0000006?line=1'>2</a>\u001b[0m     \u001b[39m@lru_cache\u001b[39m(\u001b[39mNone\u001b[39;00m)        \u001b[39m# 带有装饰器@lru_cache可以利用缓存减少迭代调用时间。不加次方法会超时\u001b[39;00m\n\u001b[1;32m      <a href='vscode-notebook-cell:/Users/lukelee/GitWorkspace/CodeForLeetCode/PythonLang/q112_%E8%B7%AF%E5%BE%84%E6%80%BB%E5%92%8C.ipynb#ch0000006?line=2'>3</a>\u001b[0m     \u001b[39mdef\u001b[39;00m \u001b[39mclimbStairs\u001b[39m(\u001b[39mself\u001b[39m, n: \u001b[39mint\u001b[39m) \u001b[39m-\u001b[39m\u001b[39m>\u001b[39m \u001b[39mint\u001b[39m:\n\u001b[1;32m      <a href='vscode-notebook-cell:/Users/lukelee/GitWorkspace/CodeForLeetCode/PythonLang/q112_%E8%B7%AF%E5%BE%84%E6%80%BB%E5%92%8C.ipynb#ch0000006?line=4'>5</a>\u001b[0m         \u001b[39mif\u001b[39;00m n \u001b[39m==\u001b[39m \u001b[39m0\u001b[39m:\n\u001b[1;32m      <a href='vscode-notebook-cell:/Users/lukelee/GitWorkspace/CodeForLeetCode/PythonLang/q112_%E8%B7%AF%E5%BE%84%E6%80%BB%E5%92%8C.ipynb#ch0000006?line=5'>6</a>\u001b[0m             \u001b[39mreturn\u001b[39;00m \u001b[39m0\u001b[39m\n",
      "\u001b[0;31mNameError\u001b[0m: name 'lru_cache' is not defined"
     ]
    }
   ],
   "source": [
    "class Solution:\n",
    "    @lru_cache(None)        # 带有装饰器@lru_cache可以利用缓存减少迭代调用时间。不加次方法会超时\n",
    "    def climbStairs(self, n: int) -> int:\n",
    "\n",
    "        if n == 0:\n",
    "            return 0\n",
    "        elif n == 1:\n",
    "            return 1\n",
    "        elif n == 2:\n",
    "            return 2\n",
    "\n",
    "        return self.climbStairs(n - 1) + self.climbStairs(n - 2)\n",
    "\n",
    "\n",
    "if __name__ == '__main__':\n",
    "    param = 38\n",
    "\n",
    "    solution = Solution()\n",
    "    result = solution.climbStairs(n=param)\n",
    "    print(result)\n"
   ]
  }
 ],
 "metadata": {
  "kernelspec": {
   "display_name": "Python 3.10.5 64-bit",
   "language": "python",
   "name": "python3"
  },
  "language_info": {
   "codemirror_mode": {
    "name": "ipython",
    "version": 3
   },
   "file_extension": ".py",
   "mimetype": "text/x-python",
   "name": "python",
   "nbconvert_exporter": "python",
   "pygments_lexer": "ipython3",
   "version": "3.10.5"
  },
  "orig_nbformat": 4,
  "vscode": {
   "interpreter": {
    "hash": "aee8b7b246df8f9039afb4144a1f6fd8d2ca17a180786b69acc140d282b71a49"
   }
  }
 },
 "nbformat": 4,
 "nbformat_minor": 2
}
