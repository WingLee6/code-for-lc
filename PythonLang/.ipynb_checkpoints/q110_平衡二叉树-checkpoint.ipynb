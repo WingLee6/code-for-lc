{
 "cells": [
  {
   "cell_type": "markdown",
   "metadata": {},
   "source": [
    "# 110. 平衡二叉树\n",
    "给定一个二叉树，判断它是否是高度平衡的二叉树。  \n",
    "本题中，一棵高度平衡二叉树定义为：  \n",
    "一个二叉树每个节点 的左右两个子树的高度差的绝对值不超过 1 。"
   ]
  },
  {
   "cell_type": "code",
   "execution_count": 2,
   "metadata": {
    "ExecuteTime": {
     "end_time": "2022-07-20T07:00:29.968309Z",
     "start_time": "2022-07-20T07:00:29.958963Z"
    }
   },
   "outputs": [],
   "source": [
    "class TreeNode:\n",
    "    def __init__(self, val=0, left=None, right=None):\n",
    "        self.val = val\n",
    "        self.left = left\n",
    "        self.right = right\n"
   ]
  },
  {
   "cell_type": "code",
   "execution_count": 3,
   "metadata": {
    "ExecuteTime": {
     "end_time": "2022-07-20T07:00:30.172848Z",
     "start_time": "2022-07-20T07:00:30.154174Z"
    }
   },
   "outputs": [],
   "source": [
    "class Solution:\n",
    "    def _tree_depth(self, root: TreeNode, depth: int = 0) -> int:\n",
    "        if root:\n",
    "            depth = 1 + max(self._tree_depth(root=root.left, depth=depth),\n",
    "                            self._tree_depth(root=root.right, depth=depth))\n",
    "\n",
    "        return depth\n",
    "\n",
    "    def isBalanced(self, root: TreeNode) -> bool:\n",
    "        if not root:\n",
    "            return True\n",
    "        if (self._tree_depth(root=root.left, depth=0) - self._tree_depth(root=root.right, depth=0)) in [-1, 0, 1]:\n",
    "            return self.isBalanced(root=root.left) and self.isBalanced(root=root.right)\n",
    "        \n",
    "        return False\n"
   ]
  },
  {
   "cell_type": "markdown",
   "metadata": {},
   "source": [
    "## 测试用例\n",
    "1. 示例 1：  \n",
    "    输入：root = [3,9,20,null,null,15,7]  \n",
    "    输出：true\n",
    "\n",
    "2. 示例 2：  \n",
    "    输入：root = [1,2,2,3,3,null,null,4,4]  \n",
    "    输出：false\n",
    "\n",
    "3. 示例 3：  \n",
    "    输入：root = []  \n",
    "    输出：true\n",
    "\n",
    "4. 示例 4:    \n",
    "    输入：param = [1, 2, 2, 3, None, None, 3, 4, None, None, 4]  \n",
    "    输出：fales\n",
    "\n"
   ]
  },
  {
   "cell_type": "code",
   "execution_count": 4,
   "metadata": {
    "ExecuteTime": {
     "end_time": "2022-07-20T07:00:30.542788Z",
     "start_time": "2022-07-20T07:00:30.529817Z"
    }
   },
   "outputs": [],
   "source": [
    "from Tools.operations_tree import operations_bi_tree\n",
    "param = [3, 9, 20, None, None, 15, 7]\n",
    "param = [1, 2, 2, 3, 3, None, None, 4, 4]\n",
    "# param = []\n",
    "# param = [28, 28, None, 50, 67, 88, 64, None, 53, 42, 60, 1, 42, None, 96, 76, 47, 6, 47, 19, 61, 95, 16, 86, 19, 93, 20, 82, 45, 23, 0, 7, 31, 21, None, 37, 64, 86, 8, 16, 58, 19, 84, 64, 7, 50, 57, 90, 84, 19,\n",
    "        #  None, 33, None, 16, 96, None, 23, 29, 74, 35, 69, 91, 40, 15, 93, 5, 6, 95, 48, 32, 64, None, 65, 68, 58, 33, 74, 12, 60, 15, 84, 53, 10, 26, 32, 94, 32, 63, 56, 47, 87, 61, 28, 61, 26, None, 39, 95, 13, 46]\n",
    "# param = [1, 2, 2, 3, None, None, 3, 4, None, None, 4]\n",
    "\n",
    "tree = operations_bi_tree()\n",
    "tree.leetcode_level_build_tree(tree_val=param)\n"
   ]
  },
  {
   "cell_type": "markdown",
   "metadata": {},
   "source": [
    "## 执行代码"
   ]
  },
  {
   "cell_type": "code",
   "execution_count": 5,
   "metadata": {
    "ExecuteTime": {
     "end_time": "2022-07-20T07:00:30.962869Z",
     "start_time": "2022-07-20T07:00:30.945707Z"
    }
   },
   "outputs": [
    {
     "data": {
      "text/plain": [
       "False"
      ]
     },
     "execution_count": 5,
     "metadata": {},
     "output_type": "execute_result"
    }
   ],
   "source": [
    "s = Solution()\n",
    "s.isBalanced(root=tree.tree_root)\n"
   ]
  },
  {
   "cell_type": "code",
   "execution_count": null,
   "metadata": {},
   "outputs": [],
   "source": []
  }
 ],
 "metadata": {
  "kernelspec": {
   "display_name": "Python 3 (ipykernel)",
   "language": "python",
   "name": "python3"
  },
  "language_info": {
   "codemirror_mode": {
    "name": "ipython",
    "version": 3
   },
   "file_extension": ".py",
   "mimetype": "text/x-python",
   "name": "python",
   "nbconvert_exporter": "python",
   "pygments_lexer": "ipython3",
   "version": "3.10.5"
  },
  "toc": {
   "base_numbering": 1,
   "nav_menu": {},
   "number_sections": true,
   "sideBar": true,
   "skip_h1_title": false,
   "title_cell": "Table of Contents",
   "title_sidebar": "Contents",
   "toc_cell": false,
   "toc_position": {},
   "toc_section_display": true,
   "toc_window_display": false
  },
  "vscode": {
   "interpreter": {
    "hash": "aee8b7b246df8f9039afb4144a1f6fd8d2ca17a180786b69acc140d282b71a49"
   }
  }
 },
 "nbformat": 4,
 "nbformat_minor": 2
}
