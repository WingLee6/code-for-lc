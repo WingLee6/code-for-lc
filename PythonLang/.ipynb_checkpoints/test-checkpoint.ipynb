{
 "cells": [
  {
   "cell_type": "code",
   "execution_count": null,
   "metadata": {},
   "outputs": [],
   "source": [
    "\n"
   ]
  },
  {
   "cell_type": "code",
   "execution_count": 1,
   "metadata": {},
   "outputs": [],
   "source": [
    "# from PythonLang.Tools.operations_tree import operations_bi_tree\n"
   ]
  },
  {
   "cell_type": "code",
   "execution_count": 2,
   "metadata": {},
   "outputs": [],
   "source": [
    "class TreeNode:\n",
    "    def __init__(self, val=0, left=None, right=None):\n",
    "        self.val = val\n",
    "        self.left = left\n",
    "        self.right = right\n"
   ]
  },
  {
   "cell_type": "code",
   "execution_count": 3,
   "metadata": {},
   "outputs": [
    {
     "ename": "NameError",
     "evalue": "name 'List' is not defined",
     "output_type": "error",
     "traceback": [
      "\u001b[0;31m---------------------------------------------------------------------------\u001b[0m",
      "\u001b[0;31mNameError\u001b[0m                                 Traceback (most recent call last)",
      "Input \u001b[0;32mIn [3]\u001b[0m, in \u001b[0;36m<cell line: 1>\u001b[0;34m()\u001b[0m\n\u001b[0;32m----> 1\u001b[0m \u001b[38;5;28;01mclass\u001b[39;00m \u001b[38;5;21;01mSolution\u001b[39;00m:\n\u001b[1;32m      2\u001b[0m     \u001b[38;5;28;01mdef\u001b[39;00m \u001b[38;5;21msortedArrayToBST\u001b[39m(\u001b[38;5;28mself\u001b[39m, nums: List[\u001b[38;5;28mint\u001b[39m]) \u001b[38;5;241m-\u001b[39m\u001b[38;5;241m>\u001b[39m Optional[TreeNode]:\n\u001b[1;32m      3\u001b[0m         \u001b[38;5;28;01mdef\u001b[39;00m \u001b[38;5;21m_build_tree\u001b[39m(left, right):\n\u001b[1;32m      4\u001b[0m             \u001b[38;5;66;03m# 递归出口\u001b[39;00m\n",
      "Input \u001b[0;32mIn [3]\u001b[0m, in \u001b[0;36mSolution\u001b[0;34m()\u001b[0m\n\u001b[1;32m      1\u001b[0m \u001b[38;5;28;01mclass\u001b[39;00m \u001b[38;5;21;01mSolution\u001b[39;00m:\n\u001b[0;32m----> 2\u001b[0m     \u001b[38;5;28;01mdef\u001b[39;00m \u001b[38;5;21msortedArrayToBST\u001b[39m(\u001b[38;5;28mself\u001b[39m, nums: \u001b[43mList\u001b[49m[\u001b[38;5;28mint\u001b[39m]) \u001b[38;5;241m-\u001b[39m\u001b[38;5;241m>\u001b[39m Optional[TreeNode]:\n\u001b[1;32m      3\u001b[0m         \u001b[38;5;28;01mdef\u001b[39;00m \u001b[38;5;21m_build_tree\u001b[39m(left, right):\n\u001b[1;32m      4\u001b[0m             \u001b[38;5;66;03m# 递归出口\u001b[39;00m\n\u001b[1;32m      5\u001b[0m             \u001b[38;5;28;01mif\u001b[39;00m left \u001b[38;5;241m>\u001b[39m right:\n",
      "\u001b[0;31mNameError\u001b[0m: name 'List' is not defined"
     ]
    }
   ],
   "source": [
    "class Solution:\n",
    "    def sortedArrayToBST(self, nums: List[int]) -> Optional[TreeNode]:\n",
    "        def _build_tree(left, right):\n",
    "            # 递归出口\n",
    "            if left > right:\n",
    "                return None\n",
    "            # 选择当前列表的根结点元素\n",
    "            # 选择中间位置右边的数字作为根节点\n",
    "            mid = (left + right + 1) // 2\n",
    "\n",
    "            # 递归建立二叉树\n",
    "            root = TreeNode(nums[mid])\n",
    "            root.left = _build_tree(left, mid - 1)\n",
    "            root.right = _build_tree(mid + 1, right)\n",
    "            return root\n",
    "\n",
    "        return _build_tree(0, len(nums) - 1)\n"
   ]
  },
  {
   "cell_type": "code",
   "execution_count": null,
   "metadata": {},
   "outputs": [],
   "source": [
    "s=[1,3]"
   ]
  },
  {
   "cell_type": "code",
   "execution_count": null,
   "metadata": {},
   "outputs": [],
   "source": [
    "param = [-10, -3, 0, 5, 9]\n",
    "\n",
    "s = Solution()\n",
    "result = s.sortedArrayToBST(param)\n",
    "print(\"------------------------\")\n",
    "print(result)\n",
    "tree = operations_bi_tree()\n",
    "# tree.level_order(root=result)\n",
    "# print(tree.level_order_visit)\n"
   ]
  }
 ],
 "metadata": {
  "kernelspec": {
   "display_name": "Python 3 (ipykernel)",
   "language": "python",
   "name": "python3"
  },
  "language_info": {
   "codemirror_mode": {
    "name": "ipython",
    "version": 3
   },
   "file_extension": ".py",
   "mimetype": "text/x-python",
   "name": "python",
   "nbconvert_exporter": "python",
   "pygments_lexer": "ipython3",
   "version": "3.10.5"
  },
  "vscode": {
   "interpreter": {
    "hash": "aee8b7b246df8f9039afb4144a1f6fd8d2ca17a180786b69acc140d282b71a49"
   }
  }
 },
 "nbformat": 4,
 "nbformat_minor": 2
}
