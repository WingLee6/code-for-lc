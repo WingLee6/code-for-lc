{
 "cells": [
  {
   "cell_type": "markdown",
   "metadata": {},
   "source": [
    "# 110. 平衡二叉树\n",
    "给定一个二叉树，判断它是否是高度平衡的二叉树。  \n",
    "本题中，一棵高度平衡二叉树定义为：  \n",
    "一个二叉树每个节点 的左右两个子树的高度差的绝对值不超过 1 。"
   ]
  },
  {
   "cell_type": "code",
   "execution_count": 112,
   "metadata": {},
   "outputs": [],
   "source": [
    "class TreeNode:\n",
    "    def __init__(self, val=0, left=None, right=None):\n",
    "        self.val = val\n",
    "        self.left = left\n",
    "        self.right = right\n"
   ]
  },
  {
   "cell_type": "code",
   "execution_count": 113,
   "metadata": {},
   "outputs": [],
   "source": [
    "class Solution:\n",
    "    def _tree_depth(self, root: TreeNode, depth: int = 0) -> int:\n",
    "        if root:\n",
    "            depth = 1 + max(self._tree_depth(root=root.left, depth=depth),\n",
    "                            self._tree_depth(root=root.right, depth=depth))\n",
    "\n",
    "        return depth\n",
    "\n",
    "    def isBalanced(self, root: TreeNode) -> bool:\n",
    "        if not root:\n",
    "            return True\n",
    "        if (self._tree_depth(root=root.left, depth=0) - self._tree_depth(root=root.right, depth=0)) in [-1, 0, 1]:\n",
    "            return self.isBalanced(root=root.left) and self.isBalanced(root=root.right)\n",
    "        \n",
    "        return False\n"
   ]
  },
  {
   "cell_type": "markdown",
   "metadata": {},
   "source": [
    "## 测试用例\n",
    "1. 示例 1：  \n",
    "    输入：root = [3,9,20,null,null,15,7]  \n",
    "    输出：true\n",
    "\n",
    "2. 示例 2：  \n",
    "    输入：root = [1,2,2,3,3,null,null,4,4]  \n",
    "    输出：false\n",
    "\n",
    "3. 示例 3：  \n",
    "    输入：root = []  \n",
    "    输出：true\n",
    "\n",
    "4. 示例 4:    \n",
    "    输入：param = [1, 2, 2, 3, None, None, 3, 4, None, None, 4]  \n",
    "    输出：fales\n",
    "\n"
   ]
  },
  {
   "cell_type": "code",
   "execution_count": 114,
   "metadata": {},
   "outputs": [],
   "source": [
    "from Tools.operations_tree import operations_bi_tree\n",
    "param = [3, 9, 20, None, None, 15, 7]\n",
    "param = [1, 2, 2, 3, 3, None, None, 4, 4]\n",
    "# param = []\n",
    "# param = [1, 2, 2, 3, None, None, 3, 4, None, None, 4]\n",
    "\n",
    "tree = operations_bi_tree()\n",
    "tree.leetcode_level_build_tree(tree_val=param)\n"
   ]
  },
  {
   "cell_type": "markdown",
   "metadata": {},
   "source": [
    "## 执行代码"
   ]
  },
  {
   "cell_type": "code",
   "execution_count": 115,
   "metadata": {},
   "outputs": [
    {
     "data": {
      "text/plain": [
       "False"
      ]
     },
     "execution_count": 115,
     "metadata": {},
     "output_type": "execute_result"
    }
   ],
   "source": [
    "s = Solution()\n",
    "s.isBalanced(root=tree.tree_root)\n"
   ]
  }
 ],
 "metadata": {
  "kernelspec": {
   "display_name": "Python 3.10.5 64-bit",
   "language": "python",
   "name": "python3"
  },
  "language_info": {
   "codemirror_mode": {
    "name": "ipython",
    "version": 3
   },
   "file_extension": ".py",
   "mimetype": "text/x-python",
   "name": "python",
   "nbconvert_exporter": "python",
   "pygments_lexer": "ipython3",
   "version": "3.10.5"
  },
  "orig_nbformat": 4,
  "vscode": {
   "interpreter": {
    "hash": "aee8b7b246df8f9039afb4144a1f6fd8d2ca17a180786b69acc140d282b71a49"
   }
  }
 },
 "nbformat": 4,
 "nbformat_minor": 2
}
