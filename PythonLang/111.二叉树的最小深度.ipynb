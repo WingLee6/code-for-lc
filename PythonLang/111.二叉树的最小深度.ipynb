{
 "cells": [
  {
   "cell_type": "markdown",
   "metadata": {},
   "source": [
    "# 111. 二叉树的最小深度\n",
    "给定一个二叉树，找出其最小深度。  \n",
    "最小深度是从根节点到最近叶子节点的最短路径上的节点数量。  \n",
    "说明：叶子节点是指没有子节点的节点。\n",
    "\n",
    "#### 示例 1：  \n",
    "输入：root = [3,9,20,null,null,15,7]  \n",
    "输出：2  \n",
    "#### 示例 2：  \n",
    "输入：root = [2,null,3,null,4,null,5,null,6]  \n",
    "输出：5  "
   ]
  },
  {
   "cell_type": "code",
   "execution_count": 42,
   "metadata": {},
   "outputs": [],
   "source": [
    "# Definition for a binary tree node.\n",
    "class TreeNode:\n",
    "    def __init__(self, val=0, left=None, right=None):\n",
    "        self.val = val\n",
    "        self.left = left\n",
    "        self.right = right"
   ]
  },
  {
   "cell_type": "code",
   "execution_count": 43,
   "metadata": {},
   "outputs": [],
   "source": [
    "class Solution:\n",
    "    def _min_depth(self, tree: TreeNode, min_d: int) -> int:\n",
    "        if not tree:\n",
    "            return min_d\n",
    "        if not tree.left and not tree.right:\n",
    "            return min_d + 1\n",
    "        if not (tree.left and tree.right):\n",
    "            if tree.left:\n",
    "                return self._min_depth(tree=tree.left, min_d=min_d) + 1\n",
    "            else:\n",
    "                return self._min_depth(tree=tree.right, min_d=min_d) + 1\n",
    "        return min(self._min_depth(tree=tree.left, min_d=min_d), self._min_depth(tree=tree.right, min_d=min_d))+1\n",
    "    \n",
    "    def minDepth(self, root: TreeNode) -> int:\n",
    "        # 法1. 递归法\n",
    "        return self._min_depth(tree=root, min_d=0)\n"
   ]
  },
  {
   "cell_type": "markdown",
   "metadata": {},
   "source": [
    "### 测试代码"
   ]
  },
  {
   "cell_type": "code",
   "execution_count": 44,
   "metadata": {},
   "outputs": [
    {
     "data": {
      "text/plain": [
       "2"
      ]
     },
     "execution_count": 44,
     "metadata": {},
     "output_type": "execute_result"
    }
   ],
   "source": [
    "# 示例 1：\n",
    "# 输入：root = [3, 9, 20, None, None, 15, 7]\n",
    "# 输出：2\n",
    "# 示例 2：\n",
    "# 输入：root = [2, None, 3, None, 4, None, 5, None, 6]\n",
    "# 输出：5\n",
    "\n",
    "from Tools.operations_tree import operations_bi_tree\n",
    "param = [3, 9, 20, None, None, 15, 7]\n",
    "# param = [2, None, 3, None, 4, None, 5, None, 6]\n",
    "\n",
    "tree = operations_bi_tree()\n",
    "tree.leetcode_level_build_tree(tree_val=param)\n",
    "\n",
    "s = Solution()\n",
    "s.minDepth(root=tree.tree_root)"
   ]
  }
 ],
 "metadata": {
  "kernelspec": {
   "display_name": "Python 3.10.5 64-bit",
   "language": "python",
   "name": "python3"
  },
  "language_info": {
   "codemirror_mode": {
    "name": "ipython",
    "version": 3
   },
   "file_extension": ".py",
   "mimetype": "text/x-python",
   "name": "python",
   "nbconvert_exporter": "python",
   "pygments_lexer": "ipython3",
   "version": "3.10.5"
  },
  "orig_nbformat": 4,
  "vscode": {
   "interpreter": {
    "hash": "aee8b7b246df8f9039afb4144a1f6fd8d2ca17a180786b69acc140d282b71a49"
   }
  }
 },
 "nbformat": 4,
 "nbformat_minor": 2
}
